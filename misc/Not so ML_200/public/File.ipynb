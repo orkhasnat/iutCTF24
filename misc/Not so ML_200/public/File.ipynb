{
 "cells": [
  {
   "cell_type": "code",
   "execution_count": null,
   "metadata": {},
   "outputs": [],
   "source": [
    "import numpy as np\n",
    "import pandas as pd"
   ]
  },
  {
   "cell_type": "code",
   "execution_count": null,
   "metadata": {},
   "outputs": [],
   "source": [
    "df = pd.read_csv('Dataset.csv', index_col=0)"
   ]
  },
  {
   "cell_type": "code",
   "execution_count": null,
   "metadata": {},
   "outputs": [],
   "source": [
    "df.head()"
   ]
  },
  {
   "cell_type": "code",
   "execution_count": null,
   "metadata": {},
   "outputs": [],
   "source": [
    "stopwords = [\n",
    "    \"i\", \"me\", \"my\", \"myself\", \"we\", \"our\", \"ours\", \"ourselves\", \"you\", \"your\", \n",
    "    \"yours\", \"yourself\", \"yourselves\", \"he\", \"him\", \"his\", \"himself\", \"she\", \n",
    "    \"her\", \"hers\", \"herself\", \"it\", \"its\", \"itself\", \"they\", \"them\", \"their\", \n",
    "    \"theirs\", \"themselves\", \"what\", \"which\", \"who\", \"whom\", \"this\", \"that\", \n",
    "    \"these\", \"those\", \"am\", \"is\", \"are\", \"was\", \"were\", \"be\", \"been\", \"being\", \n",
    "    \"have\", \"has\", \"had\", \"having\", \"do\", \"does\", \"did\", \"doing\", \"a\", \"an\", \n",
    "    \"the\", \"and\", \"but\", \"if\", \"or\", \"because\", \"as\", \"until\", \"while\", \"of\", \n",
    "    \"at\", \"by\", \"for\", \"with\", \"about\", \"against\", \"between\", \"into\", \"through\", \n",
    "    \"during\", \"before\", \"after\", \"above\", \"below\", \"to\", \"from\", \"up\", \"down\", \n",
    "    \"in\", \"out\", \"on\", \"off\", \"over\", \"under\", \"again\", \"further\", \"then\", \n",
    "    \"once\", \"here\", \"there\", \"when\", \"where\", \"why\", \"how\", \"all\", \"any\", \n",
    "    \"both\", \"each\", \"few\", \"more\", \"most\", \"other\", \"some\", \"such\", \"no\", \n",
    "    \"nor\", \"not\", \"only\", \"own\", \"same\", \"so\", \"than\", \"too\", \"very\", \"s\", \n",
    "    \"t\", \"can\", \"will\", \"just\", \"don\", \"should\", \"now\", \"d\", \"ll\", \"m\", \"o\", \n",
    "    \"re\", \"ve\", \"y\", \"ain\", \"aren\", \"couldn\", \"didn\", \"doesn\", \"hadn\", \"hasn\", \n",
    "    \"haven\", \"isn\", \"ma\", \"mightn\", \"mustn\", \"needn\", \"shan\", \"shouldn\", \n",
    "    \"wasn\", \"weren\", \"won\", \"wouldn\"\n",
    "]"
   ]
  },
  {
   "cell_type": "code",
   "execution_count": null,
   "metadata": {},
   "outputs": [],
   "source": [
    "from collections import Counter\n",
    "\n",
    "def calculate_similarity(sentence, samples, labels):\n",
    "  # Preprocess the sentence and samples\n",
    "  sentence_tokens = [word.lower() for word in sentence.split() if word not in stopwords]\n",
    "  sample_tokens = [ [word.lower() for word in sample.split() if word not in stopwords] for sample in samples ]\n",
    "\n",
    "  # Convert sentences to vectors using word count\n",
    "  sentence_vector = Counter(sentence_tokens)\n",
    "  sample_vectors = [Counter(sample) for sample in sample_tokens]\n",
    "\n",
    "  similarities = []\n",
    "  for sample_vector, label in zip(sample_vectors, labels):\n",
    "    dot_product = sum(sentence_vector[word] * sample_vector.get(word, 0) for word in set(sentence_vector))\n",
    "    magnitude_sentence = sum(sentence_vector.values())**0.5\n",
    "    magnitude_sample = sum(sample_vector.values())**0.5\n",
    "    if magnitude_sentence != 0 and magnitude_sample != 0:\n",
    "      try:\n",
    "        similarity = magnitude_sentence / (dot_product * magnitude_sample)\n",
    "        similarities.append(similarity)\n",
    "      except:\n",
    "        print(\"Error Capturing the Flag\")\n",
    "    else:\n",
    "      similarities.append(0)\n",
    "\n",
    "  most_similar_idx = similarities.index(max(similarities))\n",
    "  return samples[most_similar_idx], labels[most_similar_idx]"
   ]
  },
  {
   "cell_type": "code",
   "execution_count": null,
   "metadata": {},
   "outputs": [],
   "source": [
    "sentences = ['I derive happiness from unraveling enigmas and puzzles.','Engaging in reading in leisure period is the best use of time','The gentle fading of sun into the embrace of dusk', \"Java is renowned as a versatile programming language.\", \"Venturing across the globe fulfills my aspirations.\",  \"The universe is overflowing with possibilities.\", \"The dancing fire, throwing shadows across the room.\", \"Endless opportunities await in the vast expanse of the world.\", \"Doing exercise enhances one's health.\", \"Immersing oneself in literature proves to be an enriching pastime.\", \"The flames sway gracefully, casting shadows that dance along the walls.\",  \"sky exhibits a serene blue tint\", \"The sun descends, with hues of orange and pink.\", \"C++ is a versatile language, facilitating a myriad of tasks and applications.\", \"Light dances, projecting shadows on the door.\", \"Going to the mountains is energetic.\", \"Coffee helps in staying alert and focused.\", \"English is indeed a language known for its simplicity and versatility.\", \"It sways and paints shadows on the windows.\", \"Discovering things ignites a sense of excitement within me.\",  \"Roaming in the world.\", \"Wow! Flames.\", \"Diving into code fuels my passion and drives my creativity.\",  \"Engaging in activity contributes to overall health and well-being.\",  \"Yeah! Solving brings me immense joy and satisfaction.\", \"Problem Solving is enjoyed by me\" ]"
   ]
  },
  {
   "cell_type": "code",
   "execution_count": null,
   "metadata": {},
   "outputs": [],
   "source": [
    "for sentence in sentences:\n",
    "    samples = df['Text'].iloc[:253].values\n",
    "    labels = df['Label'].iloc[:253].values \n",
    "    text, label = calculate_similarity(sentence, samples, labels)\n",
    "    print(f\"{label}\")"
   ]
  },
  {
   "cell_type": "markdown",
   "metadata": {},
   "source": [
    "# EOF"
   ]
  }
 ],
 "metadata": {
  "kernelspec": {
   "display_name": "Python 3",
   "language": "python",
   "name": "python3"
  },
  "language_info": {
   "codemirror_mode": {
    "name": "ipython",
    "version": 3
   },
   "file_extension": ".py",
   "mimetype": "text/x-python",
   "name": "python",
   "nbconvert_exporter": "python",
   "pygments_lexer": "ipython3",
   "version": "3.11.4"
  }
 },
 "nbformat": 4,
 "nbformat_minor": 2
}
